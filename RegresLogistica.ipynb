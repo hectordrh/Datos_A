{
 "cells": [
  {
   "cell_type": "code",
   "execution_count": 1,
   "id": "37a30793-ded5-4a0d-b344-4901b1343435",
   "metadata": {},
   "outputs": [
    {
     "data": {
      "text/html": [
       "<div>\n",
       "<style scoped>\n",
       "    .dataframe tbody tr th:only-of-type {\n",
       "        vertical-align: middle;\n",
       "    }\n",
       "\n",
       "    .dataframe tbody tr th {\n",
       "        vertical-align: top;\n",
       "    }\n",
       "\n",
       "    .dataframe thead th {\n",
       "        text-align: right;\n",
       "    }\n",
       "</style>\n",
       "<table border=\"1\" class=\"dataframe\">\n",
       "  <thead>\n",
       "    <tr style=\"text-align: right;\">\n",
       "      <th></th>\n",
       "      <th>Edad</th>\n",
       "      <th>Sexo</th>\n",
       "      <th>Tipo_dolor_pecho</th>\n",
       "      <th>Presion_arterial</th>\n",
       "      <th>Colesterol</th>\n",
       "      <th>Azucar_en_sangre</th>\n",
       "      <th>Resul_electrocardiograficos</th>\n",
       "      <th>Frecuencia_cardiaca_max</th>\n",
       "      <th>Angina_inducida</th>\n",
       "      <th>Depresion_del_ST</th>\n",
       "      <th>ST_de_ejercicio</th>\n",
       "      <th>Num_vasos_principales</th>\n",
       "      <th>Estado_corazon</th>\n",
       "      <th>condicion</th>\n",
       "    </tr>\n",
       "  </thead>\n",
       "  <tbody>\n",
       "    <tr>\n",
       "      <th>0</th>\n",
       "      <td>69</td>\n",
       "      <td>1</td>\n",
       "      <td>0</td>\n",
       "      <td>160</td>\n",
       "      <td>234</td>\n",
       "      <td>1</td>\n",
       "      <td>2</td>\n",
       "      <td>131</td>\n",
       "      <td>0</td>\n",
       "      <td>0.1</td>\n",
       "      <td>1</td>\n",
       "      <td>1</td>\n",
       "      <td>0</td>\n",
       "      <td>0</td>\n",
       "    </tr>\n",
       "    <tr>\n",
       "      <th>1</th>\n",
       "      <td>69</td>\n",
       "      <td>0</td>\n",
       "      <td>0</td>\n",
       "      <td>140</td>\n",
       "      <td>239</td>\n",
       "      <td>0</td>\n",
       "      <td>0</td>\n",
       "      <td>151</td>\n",
       "      <td>0</td>\n",
       "      <td>1.8</td>\n",
       "      <td>0</td>\n",
       "      <td>2</td>\n",
       "      <td>0</td>\n",
       "      <td>0</td>\n",
       "    </tr>\n",
       "    <tr>\n",
       "      <th>2</th>\n",
       "      <td>66</td>\n",
       "      <td>0</td>\n",
       "      <td>0</td>\n",
       "      <td>150</td>\n",
       "      <td>226</td>\n",
       "      <td>0</td>\n",
       "      <td>0</td>\n",
       "      <td>114</td>\n",
       "      <td>0</td>\n",
       "      <td>2.6</td>\n",
       "      <td>2</td>\n",
       "      <td>0</td>\n",
       "      <td>0</td>\n",
       "      <td>0</td>\n",
       "    </tr>\n",
       "    <tr>\n",
       "      <th>3</th>\n",
       "      <td>65</td>\n",
       "      <td>1</td>\n",
       "      <td>0</td>\n",
       "      <td>138</td>\n",
       "      <td>282</td>\n",
       "      <td>1</td>\n",
       "      <td>2</td>\n",
       "      <td>174</td>\n",
       "      <td>0</td>\n",
       "      <td>1.4</td>\n",
       "      <td>1</td>\n",
       "      <td>1</td>\n",
       "      <td>0</td>\n",
       "      <td>1</td>\n",
       "    </tr>\n",
       "    <tr>\n",
       "      <th>4</th>\n",
       "      <td>64</td>\n",
       "      <td>1</td>\n",
       "      <td>0</td>\n",
       "      <td>110</td>\n",
       "      <td>211</td>\n",
       "      <td>0</td>\n",
       "      <td>2</td>\n",
       "      <td>144</td>\n",
       "      <td>1</td>\n",
       "      <td>1.8</td>\n",
       "      <td>1</td>\n",
       "      <td>0</td>\n",
       "      <td>0</td>\n",
       "      <td>0</td>\n",
       "    </tr>\n",
       "    <tr>\n",
       "      <th>5</th>\n",
       "      <td>64</td>\n",
       "      <td>1</td>\n",
       "      <td>0</td>\n",
       "      <td>170</td>\n",
       "      <td>227</td>\n",
       "      <td>0</td>\n",
       "      <td>2</td>\n",
       "      <td>155</td>\n",
       "      <td>0</td>\n",
       "      <td>0.6</td>\n",
       "      <td>1</td>\n",
       "      <td>0</td>\n",
       "      <td>2</td>\n",
       "      <td>0</td>\n",
       "    </tr>\n",
       "    <tr>\n",
       "      <th>6</th>\n",
       "      <td>63</td>\n",
       "      <td>1</td>\n",
       "      <td>0</td>\n",
       "      <td>145</td>\n",
       "      <td>233</td>\n",
       "      <td>1</td>\n",
       "      <td>2</td>\n",
       "      <td>150</td>\n",
       "      <td>0</td>\n",
       "      <td>2.3</td>\n",
       "      <td>2</td>\n",
       "      <td>0</td>\n",
       "      <td>1</td>\n",
       "      <td>0</td>\n",
       "    </tr>\n",
       "    <tr>\n",
       "      <th>7</th>\n",
       "      <td>61</td>\n",
       "      <td>1</td>\n",
       "      <td>0</td>\n",
       "      <td>134</td>\n",
       "      <td>234</td>\n",
       "      <td>0</td>\n",
       "      <td>0</td>\n",
       "      <td>145</td>\n",
       "      <td>0</td>\n",
       "      <td>2.6</td>\n",
       "      <td>1</td>\n",
       "      <td>2</td>\n",
       "      <td>0</td>\n",
       "      <td>1</td>\n",
       "    </tr>\n",
       "    <tr>\n",
       "      <th>8</th>\n",
       "      <td>60</td>\n",
       "      <td>0</td>\n",
       "      <td>0</td>\n",
       "      <td>150</td>\n",
       "      <td>240</td>\n",
       "      <td>0</td>\n",
       "      <td>0</td>\n",
       "      <td>171</td>\n",
       "      <td>0</td>\n",
       "      <td>0.9</td>\n",
       "      <td>0</td>\n",
       "      <td>0</td>\n",
       "      <td>0</td>\n",
       "      <td>0</td>\n",
       "    </tr>\n",
       "    <tr>\n",
       "      <th>9</th>\n",
       "      <td>59</td>\n",
       "      <td>1</td>\n",
       "      <td>0</td>\n",
       "      <td>178</td>\n",
       "      <td>270</td>\n",
       "      <td>0</td>\n",
       "      <td>2</td>\n",
       "      <td>145</td>\n",
       "      <td>0</td>\n",
       "      <td>4.2</td>\n",
       "      <td>2</td>\n",
       "      <td>0</td>\n",
       "      <td>2</td>\n",
       "      <td>0</td>\n",
       "    </tr>\n",
       "    <tr>\n",
       "      <th>10</th>\n",
       "      <td>59</td>\n",
       "      <td>1</td>\n",
       "      <td>0</td>\n",
       "      <td>170</td>\n",
       "      <td>288</td>\n",
       "      <td>0</td>\n",
       "      <td>2</td>\n",
       "      <td>159</td>\n",
       "      <td>0</td>\n",
       "      <td>0.2</td>\n",
       "      <td>1</td>\n",
       "      <td>0</td>\n",
       "      <td>2</td>\n",
       "      <td>1</td>\n",
       "    </tr>\n",
       "    <tr>\n",
       "      <th>11</th>\n",
       "      <td>59</td>\n",
       "      <td>1</td>\n",
       "      <td>0</td>\n",
       "      <td>160</td>\n",
       "      <td>273</td>\n",
       "      <td>0</td>\n",
       "      <td>2</td>\n",
       "      <td>125</td>\n",
       "      <td>0</td>\n",
       "      <td>0.0</td>\n",
       "      <td>0</td>\n",
       "      <td>0</td>\n",
       "      <td>0</td>\n",
       "      <td>1</td>\n",
       "    </tr>\n",
       "    <tr>\n",
       "      <th>12</th>\n",
       "      <td>59</td>\n",
       "      <td>1</td>\n",
       "      <td>0</td>\n",
       "      <td>134</td>\n",
       "      <td>204</td>\n",
       "      <td>0</td>\n",
       "      <td>0</td>\n",
       "      <td>162</td>\n",
       "      <td>0</td>\n",
       "      <td>0.8</td>\n",
       "      <td>0</td>\n",
       "      <td>2</td>\n",
       "      <td>0</td>\n",
       "      <td>1</td>\n",
       "    </tr>\n",
       "    <tr>\n",
       "      <th>13</th>\n",
       "      <td>58</td>\n",
       "      <td>0</td>\n",
       "      <td>0</td>\n",
       "      <td>150</td>\n",
       "      <td>283</td>\n",
       "      <td>1</td>\n",
       "      <td>2</td>\n",
       "      <td>162</td>\n",
       "      <td>0</td>\n",
       "      <td>1.0</td>\n",
       "      <td>0</td>\n",
       "      <td>0</td>\n",
       "      <td>0</td>\n",
       "      <td>0</td>\n",
       "    </tr>\n",
       "    <tr>\n",
       "      <th>14</th>\n",
       "      <td>56</td>\n",
       "      <td>1</td>\n",
       "      <td>0</td>\n",
       "      <td>120</td>\n",
       "      <td>193</td>\n",
       "      <td>0</td>\n",
       "      <td>2</td>\n",
       "      <td>162</td>\n",
       "      <td>0</td>\n",
       "      <td>1.9</td>\n",
       "      <td>1</td>\n",
       "      <td>0</td>\n",
       "      <td>2</td>\n",
       "      <td>0</td>\n",
       "    </tr>\n",
       "    <tr>\n",
       "      <th>15</th>\n",
       "      <td>52</td>\n",
       "      <td>1</td>\n",
       "      <td>0</td>\n",
       "      <td>118</td>\n",
       "      <td>186</td>\n",
       "      <td>0</td>\n",
       "      <td>2</td>\n",
       "      <td>190</td>\n",
       "      <td>0</td>\n",
       "      <td>0.0</td>\n",
       "      <td>1</td>\n",
       "      <td>0</td>\n",
       "      <td>1</td>\n",
       "      <td>0</td>\n",
       "    </tr>\n",
       "    <tr>\n",
       "      <th>16</th>\n",
       "      <td>52</td>\n",
       "      <td>1</td>\n",
       "      <td>0</td>\n",
       "      <td>152</td>\n",
       "      <td>298</td>\n",
       "      <td>1</td>\n",
       "      <td>0</td>\n",
       "      <td>178</td>\n",
       "      <td>0</td>\n",
       "      <td>1.2</td>\n",
       "      <td>1</td>\n",
       "      <td>0</td>\n",
       "      <td>2</td>\n",
       "      <td>0</td>\n",
       "    </tr>\n",
       "    <tr>\n",
       "      <th>17</th>\n",
       "      <td>51</td>\n",
       "      <td>1</td>\n",
       "      <td>0</td>\n",
       "      <td>125</td>\n",
       "      <td>213</td>\n",
       "      <td>0</td>\n",
       "      <td>2</td>\n",
       "      <td>125</td>\n",
       "      <td>1</td>\n",
       "      <td>1.4</td>\n",
       "      <td>0</td>\n",
       "      <td>1</td>\n",
       "      <td>0</td>\n",
       "      <td>0</td>\n",
       "    </tr>\n",
       "    <tr>\n",
       "      <th>18</th>\n",
       "      <td>45</td>\n",
       "      <td>1</td>\n",
       "      <td>0</td>\n",
       "      <td>110</td>\n",
       "      <td>264</td>\n",
       "      <td>0</td>\n",
       "      <td>0</td>\n",
       "      <td>132</td>\n",
       "      <td>0</td>\n",
       "      <td>1.2</td>\n",
       "      <td>1</td>\n",
       "      <td>0</td>\n",
       "      <td>2</td>\n",
       "      <td>1</td>\n",
       "    </tr>\n",
       "    <tr>\n",
       "      <th>19</th>\n",
       "      <td>42</td>\n",
       "      <td>1</td>\n",
       "      <td>0</td>\n",
       "      <td>148</td>\n",
       "      <td>244</td>\n",
       "      <td>0</td>\n",
       "      <td>2</td>\n",
       "      <td>178</td>\n",
       "      <td>0</td>\n",
       "      <td>0.8</td>\n",
       "      <td>0</td>\n",
       "      <td>2</td>\n",
       "      <td>0</td>\n",
       "      <td>0</td>\n",
       "    </tr>\n",
       "  </tbody>\n",
       "</table>\n",
       "</div>"
      ],
      "text/plain": [
       "    Edad  Sexo  Tipo_dolor_pecho  Presion_arterial  Colesterol  \\\n",
       "0     69     1                 0               160         234   \n",
       "1     69     0                 0               140         239   \n",
       "2     66     0                 0               150         226   \n",
       "3     65     1                 0               138         282   \n",
       "4     64     1                 0               110         211   \n",
       "5     64     1                 0               170         227   \n",
       "6     63     1                 0               145         233   \n",
       "7     61     1                 0               134         234   \n",
       "8     60     0                 0               150         240   \n",
       "9     59     1                 0               178         270   \n",
       "10    59     1                 0               170         288   \n",
       "11    59     1                 0               160         273   \n",
       "12    59     1                 0               134         204   \n",
       "13    58     0                 0               150         283   \n",
       "14    56     1                 0               120         193   \n",
       "15    52     1                 0               118         186   \n",
       "16    52     1                 0               152         298   \n",
       "17    51     1                 0               125         213   \n",
       "18    45     1                 0               110         264   \n",
       "19    42     1                 0               148         244   \n",
       "\n",
       "    Azucar_en_sangre  Resul_electrocardiograficos  Frecuencia_cardiaca_max  \\\n",
       "0                  1                            2                      131   \n",
       "1                  0                            0                      151   \n",
       "2                  0                            0                      114   \n",
       "3                  1                            2                      174   \n",
       "4                  0                            2                      144   \n",
       "5                  0                            2                      155   \n",
       "6                  1                            2                      150   \n",
       "7                  0                            0                      145   \n",
       "8                  0                            0                      171   \n",
       "9                  0                            2                      145   \n",
       "10                 0                            2                      159   \n",
       "11                 0                            2                      125   \n",
       "12                 0                            0                      162   \n",
       "13                 1                            2                      162   \n",
       "14                 0                            2                      162   \n",
       "15                 0                            2                      190   \n",
       "16                 1                            0                      178   \n",
       "17                 0                            2                      125   \n",
       "18                 0                            0                      132   \n",
       "19                 0                            2                      178   \n",
       "\n",
       "    Angina_inducida  Depresion_del_ST  ST_de_ejercicio  Num_vasos_principales  \\\n",
       "0                 0               0.1                1                      1   \n",
       "1                 0               1.8                0                      2   \n",
       "2                 0               2.6                2                      0   \n",
       "3                 0               1.4                1                      1   \n",
       "4                 1               1.8                1                      0   \n",
       "5                 0               0.6                1                      0   \n",
       "6                 0               2.3                2                      0   \n",
       "7                 0               2.6                1                      2   \n",
       "8                 0               0.9                0                      0   \n",
       "9                 0               4.2                2                      0   \n",
       "10                0               0.2                1                      0   \n",
       "11                0               0.0                0                      0   \n",
       "12                0               0.8                0                      2   \n",
       "13                0               1.0                0                      0   \n",
       "14                0               1.9                1                      0   \n",
       "15                0               0.0                1                      0   \n",
       "16                0               1.2                1                      0   \n",
       "17                1               1.4                0                      1   \n",
       "18                0               1.2                1                      0   \n",
       "19                0               0.8                0                      2   \n",
       "\n",
       "    Estado_corazon  condicion  \n",
       "0                0          0  \n",
       "1                0          0  \n",
       "2                0          0  \n",
       "3                0          1  \n",
       "4                0          0  \n",
       "5                2          0  \n",
       "6                1          0  \n",
       "7                0          1  \n",
       "8                0          0  \n",
       "9                2          0  \n",
       "10               2          1  \n",
       "11               0          1  \n",
       "12               0          1  \n",
       "13               0          0  \n",
       "14               2          0  \n",
       "15               1          0  \n",
       "16               2          0  \n",
       "17               0          0  \n",
       "18               2          1  \n",
       "19               0          0  "
      ]
     },
     "execution_count": 1,
     "metadata": {},
     "output_type": "execute_result"
    }
   ],
   "source": [
    "import pandas as pd\n",
    "import numpy as np \n",
    "import seaborn as sns\n",
    "import matplotlib.pyplot as plt\n",
    "\n",
    "from sklearn import metrics\n",
    "from sklearn.model_selection import train_test_split\n",
    "from sklearn.linear_model import LogisticRegression\n",
    "from sklearn.metrics import classification_report, confusion_matrix\n",
    "\n",
    "\n",
    "data=pd.read_csv('./heart_cleveland_upload.csv') #importamos datos del archivo csv\n",
    "\n",
    "data.head(20)\n"
   ]
  },
  {
   "cell_type": "code",
   "execution_count": 4,
   "id": "72dc5cd6-b4f0-443b-b52f-61df50c4d181",
   "metadata": {},
   "outputs": [
    {
     "data": {
      "text/plain": [
       "Text(0.5, 1.0, 'Depresion_del_ST')"
      ]
     },
     "execution_count": 4,
     "metadata": {},
     "output_type": "execute_result"
    },
    {
     "data": {
      "image/png": "[encoded data removed]",
      "text/plain": [
       "<Figure size 600x300 with 1 Axes>"
      ]
     },
     "metadata": {},
     "output_type": "display_data"
    }
   ],
   "source": [
    "#identificamos los valores faltamtes o atipicos \n",
    "plt.figure(figsize=(6,3))\n",
    "sns.boxplot(x=data['Depresion_del_ST'])\n",
    "plt.title('Depresion_del_ST', fontsize=10)"
   ]
  },
  {
   "cell_type": "code",
   "execution_count": 5,
   "id": "a9e0bb5e-5f22-4ade-b824-8c9764f7462e",
   "metadata": {},
   "outputs": [
    {
     "name": "stdout",
     "output_type": "stream",
     "text": [
      "Cantidad de registros de Depresion_del_ST mayores a 5 es = 2\n"
     ]
    }
   ],
   "source": [
    "#Contamos los valores mayores a 5 \n",
    "print(\"Cantidad de registros de Depresion_del_ST mayores a 5 es =\", (data['Depresion_del_ST'] > 5).sum())"
   ]
  },
  {
   "cell_type": "code",
   "execution_count": 7,
   "id": "20a95b46-c105-4721-9f4d-e693e163678a",
   "metadata": {},
   "outputs": [
    {
     "name": "stdout",
     "output_type": "stream",
     "text": [
      "Cantidad de registros de Depresion_del_ST mayores a 5 es = 0\n"
     ]
    }
   ],
   "source": [
    "#Cambiamos los valores mayores a 5 por la media\n",
    "\n",
    "media = data['Depresion_del_ST'].mean()\n",
    "data.loc[data['Depresion_del_ST'] > 5, 'Depresion_del_ST'] = media\n",
    "\n",
    "print(\"Cantidad de registros de Depresion_del_ST mayores a 5 es =\", (data['Depresion_del_ST'] > 5).sum())"
   ]
  },
  {
   "cell_type": "code",
   "execution_count": 8,
   "id": "420668aa-64a1-4041-ad11-7bc943888c2c",
   "metadata": {},
   "outputs": [
    {
     "data": {
      "text/plain": [
       "Text(0.5, 1.0, 'Depresion_del_ST')"
      ]
     },
     "execution_count": 8,
     "metadata": {},
     "output_type": "execute_result"
    },
    {
     "data": {
      "image/png": "[encoded data removed]",
      "text/plain": [
       "<Figure size 600x300 with 1 Axes>"
      ]
     },
     "metadata": {},
     "output_type": "display_data"
    }
   ],
   "source": [
    "#comprobamos valores atipicos \n",
    "plt.figure(figsize=(6,3))\n",
    "sns.boxplot(x=data['Depresion_del_ST'])\n",
    "plt.title('Depresion_del_ST', fontsize=10)"
   ]
  },
  {
   "cell_type": "code",
   "execution_count": 3,
   "id": "d0f9a1f6-1a7f-4213-a9a4-624b413bb661",
   "metadata": {},
   "outputs": [
    {
     "name": "stdout",
     "output_type": "stream",
     "text": [
      "El total de datos atipicos de  10\n"
     ]
    }
   ],
   "source": [
    "n_minimo=85\n",
    "n_maximo=185\n",
    "total_atipico=((data['Frecuencia_cardiaca_max']<n_minimo)|(data['Frecuencia_cardiaca_max']>n_maximo)).sum()\n",
    "print(\"El total de datos atipicos de  {}\".format(total_atipico))"
   ]
  },
  {
   "cell_type": "code",
   "execution_count": 28,
   "id": "b85bfe98-b61c-4dd5-aaca-f8ce84a034e0",
   "metadata": {},
   "outputs": [
    {
     "data": {
      "text/plain": [
       "Text(0.5, 1.0, 'Datos atipicos Presion_arterial Frecuencia_cardiaca_max')"
      ]
     },
     "execution_count": 28,
     "metadata": {},
     "output_type": "execute_result"
    },
    {
     "data": {
      "image/png": "[encoded data removed]",
      "text/plain": [
       "<Figure size 600x300 with 1 Axes>"
      ]
     },
     "metadata": {},
     "output_type": "display_data"
    }
   ],
   "source": [
    "plt.figure(figsize=(6,3))\n",
    "sns.boxplot(x=data['Presion_arterial'])\n",
    "plt.title('Datos atipicos Presion_arterial Frecuencia_cardiaca_max', fontsize=10)"
   ]
  },
  {
   "cell_type": "code",
   "execution_count": 13,
   "id": "9a9eec1f-9edc-485b-8924-092f99e4453a",
   "metadata": {},
   "outputs": [
    {
     "name": "stdout",
     "output_type": "stream",
     "text": [
      "Cantidad de registros de Presion_arterial mayores a 185 es = 0\n",
      "Cantidad de registros de Presion_arterial menores a 85 es = 0\n"
     ]
    }
   ],
   "source": [
    "#modificamos valores atipicos por media y redondemos para evitar errores\n",
    "media = round(data['Presion_arterial'].mean())\n",
    "data.loc[data['Presion_arterial'] > 185, 'Presion_arterial'] = media\n",
    "data.loc[data['Presion_arterial'] < 85, 'Presion_arterial'] = media\n",
    "\n",
    "print(\"Cantidad de registros de Presion_arterial mayores a 185 es =\", (data['Presion_arterial'] > 185).sum())\n",
    "print(\"Cantidad de registros de Presion_arterial menores a 85 es =\", (data['Presion_arterial'] < 85).sum())"
   ]
  },
  {
   "cell_type": "code",
   "execution_count": 14,
   "id": "5489aae4-981b-4303-8222-a4307b09d2b1",
   "metadata": {},
   "outputs": [
    {
     "data": {
      "text/plain": [
       "Text(0.5, 1.0, 'Datos atipicos Presion_arterial Frecuencia_cardiaca_max')"
      ]
     },
     "execution_count": 14,
     "metadata": {},
     "output_type": "execute_result"
    },
    {
     "data": {
      "image/png": "[encoded data removed]",
      "text/plain": [
       "<Figure size 600x300 with 1 Axes>"
      ]
     },
     "metadata": {},
     "output_type": "display_data"
    }
   ],
   "source": [
    "plt.figure(figsize=(6,3))\n",
    "sns.boxplot(x=data['Presion_arterial'])\n",
    "plt.title('Datos atipicos Presion_arterial Frecuencia_cardiaca_max', fontsize=10)"
   ]
  },
  {
   "cell_type": "code",
   "execution_count": 30,
   "id": "bed00d4c-b8cb-4415-b62d-a79886218262",
   "metadata": {},
   "outputs": [
    {
     "data": {
      "text/plain": [
       "condicion\n",
       "0    160\n",
       "1    137\n",
       "Name: count, dtype: int64"
      ]
     },
     "execution_count": 30,
     "metadata": {},
     "output_type": "execute_result"
    }
   ],
   "source": [
    "data['condicion'].value_counts()"
   ]
  },
  {
   "cell_type": "code",
   "execution_count": 8,
   "id": "4e8e9112-9bde-4f3d-a5c4-b1da52057ada",
   "metadata": {},
   "outputs": [
    {
     "data": {
      "text/html": [
       "<div>\n",
       "<style scoped>\n",
       "    .dataframe tbody tr th:only-of-type {\n",
       "        vertical-align: middle;\n",
       "    }\n",
       "\n",
       "    .dataframe tbody tr th {\n",
       "        vertical-align: top;\n",
       "    }\n",
       "\n",
       "    .dataframe thead th {\n",
       "        text-align: right;\n",
       "    }\n",
       "</style>\n",
       "<table border=\"1\" class=\"dataframe\">\n",
       "  <thead>\n",
       "    <tr style=\"text-align: right;\">\n",
       "      <th></th>\n",
       "      <th>condicion</th>\n",
       "    </tr>\n",
       "  </thead>\n",
       "  <tbody>\n",
       "    <tr>\n",
       "      <th>0</th>\n",
       "      <td>0</td>\n",
       "    </tr>\n",
       "    <tr>\n",
       "      <th>1</th>\n",
       "      <td>0</td>\n",
       "    </tr>\n",
       "    <tr>\n",
       "      <th>2</th>\n",
       "      <td>0</td>\n",
       "    </tr>\n",
       "    <tr>\n",
       "      <th>3</th>\n",
       "      <td>1</td>\n",
       "    </tr>\n",
       "    <tr>\n",
       "      <th>4</th>\n",
       "      <td>0</td>\n",
       "    </tr>\n",
       "    <tr>\n",
       "      <th>5</th>\n",
       "      <td>0</td>\n",
       "    </tr>\n",
       "    <tr>\n",
       "      <th>6</th>\n",
       "      <td>0</td>\n",
       "    </tr>\n",
       "    <tr>\n",
       "      <th>7</th>\n",
       "      <td>1</td>\n",
       "    </tr>\n",
       "    <tr>\n",
       "      <th>8</th>\n",
       "      <td>0</td>\n",
       "    </tr>\n",
       "    <tr>\n",
       "      <th>9</th>\n",
       "      <td>0</td>\n",
       "    </tr>\n",
       "    <tr>\n",
       "      <th>10</th>\n",
       "      <td>1</td>\n",
       "    </tr>\n",
       "    <tr>\n",
       "      <th>11</th>\n",
       "      <td>1</td>\n",
       "    </tr>\n",
       "    <tr>\n",
       "      <th>12</th>\n",
       "      <td>1</td>\n",
       "    </tr>\n",
       "    <tr>\n",
       "      <th>13</th>\n",
       "      <td>0</td>\n",
       "    </tr>\n",
       "    <tr>\n",
       "      <th>14</th>\n",
       "      <td>0</td>\n",
       "    </tr>\n",
       "    <tr>\n",
       "      <th>15</th>\n",
       "      <td>0</td>\n",
       "    </tr>\n",
       "    <tr>\n",
       "      <th>16</th>\n",
       "      <td>0</td>\n",
       "    </tr>\n",
       "    <tr>\n",
       "      <th>17</th>\n",
       "      <td>0</td>\n",
       "    </tr>\n",
       "    <tr>\n",
       "      <th>18</th>\n",
       "      <td>1</td>\n",
       "    </tr>\n",
       "    <tr>\n",
       "      <th>19</th>\n",
       "      <td>0</td>\n",
       "    </tr>\n",
       "    <tr>\n",
       "      <th>20</th>\n",
       "      <td>0</td>\n",
       "    </tr>\n",
       "    <tr>\n",
       "      <th>21</th>\n",
       "      <td>1</td>\n",
       "    </tr>\n",
       "    <tr>\n",
       "      <th>22</th>\n",
       "      <td>0</td>\n",
       "    </tr>\n",
       "    <tr>\n",
       "      <th>23</th>\n",
       "      <td>0</td>\n",
       "    </tr>\n",
       "    <tr>\n",
       "      <th>24</th>\n",
       "      <td>0</td>\n",
       "    </tr>\n",
       "    <tr>\n",
       "      <th>25</th>\n",
       "      <td>0</td>\n",
       "    </tr>\n",
       "    <tr>\n",
       "      <th>26</th>\n",
       "      <td>1</td>\n",
       "    </tr>\n",
       "    <tr>\n",
       "      <th>27</th>\n",
       "      <td>0</td>\n",
       "    </tr>\n",
       "    <tr>\n",
       "      <th>28</th>\n",
       "      <td>1</td>\n",
       "    </tr>\n",
       "    <tr>\n",
       "      <th>29</th>\n",
       "      <td>0</td>\n",
       "    </tr>\n",
       "  </tbody>\n",
       "</table>\n",
       "</div>"
      ],
      "text/plain": [
       "    condicion\n",
       "0           0\n",
       "1           0\n",
       "2           0\n",
       "3           1\n",
       "4           0\n",
       "5           0\n",
       "6           0\n",
       "7           1\n",
       "8           0\n",
       "9           0\n",
       "10          1\n",
       "11          1\n",
       "12          1\n",
       "13          0\n",
       "14          0\n",
       "15          0\n",
       "16          0\n",
       "17          0\n",
       "18          1\n",
       "19          0\n",
       "20          0\n",
       "21          1\n",
       "22          0\n",
       "23          0\n",
       "24          0\n",
       "25          0\n",
       "26          1\n",
       "27          0\n",
       "28          1\n",
       "29          0"
      ]
     },
     "execution_count": 8,
     "metadata": {},
     "output_type": "execute_result"
    }
   ],
   "source": [
    "data[['condicion']].head(30)"
   ]
  },
  {
   "cell_type": "code",
   "execution_count": 19,
   "id": "be401f53-edfd-442d-aa8b-134704364c80",
   "metadata": {},
   "outputs": [],
   "source": [
    "#punto 4\n",
    "\n",
    "X=data.drop('condicion',axis=1)\n",
    "Y=data['condicion']\n",
    "\n",
    "X_train, X_test, Y_train, Y_test = train_test_split(X,Y, test_size=0.25, stratify=Y, random_state=0)\n"
   ]
  },
  {
   "cell_type": "code",
   "execution_count": 20,
   "id": "62f5f284-310d-435d-a2ef-e5d210be21cf",
   "metadata": {},
   "outputs": [
    {
     "name": "stdout",
     "output_type": "stream",
     "text": [
      "     Edad  Sexo  Tipo_dolor_pecho  Presion_arterial  Colesterol  \\\n",
      "234    56     0                 3        131.693603         288   \n",
      "82     66     0                 2        146.000000         278   \n",
      "36     56     1                 1        120.000000         240   \n",
      "237    56     1                 3        132.000000         184   \n",
      "133    47     1                 2        108.000000         243   \n",
      "..    ...   ...               ...               ...         ...   \n",
      "291    40     1                 3        110.000000         167   \n",
      "195    61     0                 3        130.000000         330   \n",
      "170    65     0                 3        150.000000         225   \n",
      "135    46     0                 2        142.000000         177   \n",
      "293    39     1                 3        118.000000         219   \n",
      "\n",
      "     Azucar_en_sangre  Resul_electrocardiograficos  Frecuencia_cardiaca_max  \\\n",
      "234                 1                            2                      133   \n",
      "82                  0                            2                      152   \n",
      "36                  0                            0                      169   \n",
      "237                 0                            2                      105   \n",
      "133                 0                            0                      152   \n",
      "..                ...                          ...                      ...   \n",
      "291                 0                            2                      114   \n",
      "195                 0                            2                      169   \n",
      "170                 0                            2                      114   \n",
      "135                 0                            2                      160   \n",
      "293                 0                            0                      140   \n",
      "\n",
      "     Angina_inducida  Depresion_del_ST  ST_de_ejercicio  \\\n",
      "234                1               4.0                2   \n",
      "82                 0               0.0                1   \n",
      "36                 0               0.0                2   \n",
      "237                1               2.1                1   \n",
      "133                0               0.0                0   \n",
      "..               ...               ...              ...   \n",
      "291                1               2.0                1   \n",
      "195                0               0.0                0   \n",
      "170                0               1.0                1   \n",
      "135                1               1.4                2   \n",
      "293                0               1.2                1   \n",
      "\n",
      "     Num_vasos_principales  Estado_corazon  \n",
      "234                      2               2  \n",
      "82                       1               0  \n",
      "36                       0               0  \n",
      "237                      1               1  \n",
      "133                      0               0  \n",
      "..                     ...             ...  \n",
      "291                      0               2  \n",
      "195                      0               0  \n",
      "170                      3               2  \n",
      "135                      0               0  \n",
      "293                      0               2  \n",
      "\n",
      "[222 rows x 13 columns]\n"
     ]
    }
   ],
   "source": [
    "print(X_train)"
   ]
  },
  {
   "cell_type": "code",
   "execution_count": 21,
   "id": "1238a269-872b-49ae-8b5a-cca919207ee3",
   "metadata": {},
   "outputs": [
    {
     "name": "stdout",
     "output_type": "stream",
     "text": [
      "234    1\n",
      "82     0\n",
      "36     0\n",
      "237    1\n",
      "133    1\n",
      "      ..\n",
      "291    1\n",
      "195    1\n",
      "170    1\n",
      "135    0\n",
      "293    1\n",
      "Name: condicion, Length: 222, dtype: int64\n"
     ]
    }
   ],
   "source": [
    "print(Y_train)"
   ]
  },
  {
   "cell_type": "code",
   "execution_count": 25,
   "id": "aa87c61b-5ed6-4d7f-8d13-ade523ef956d",
   "metadata": {},
   "outputs": [],
   "source": [
    "#paso 5 modelo de regrecion logistica \n",
    "\n",
    "# modelo_regresion=LinealRegresssion(solver =\"liblinear\")\n",
    "#para modelo de regresion lineal\n",
    "modelo_regresion=LogisticRegression(solver =\"liblinear\")\n",
    "modelo_regresion.fit(X_train, Y_train)\n",
    "\n",
    "prediccion=modelo_regresion.predict(X_test)"
   ]
  },
  {
   "cell_type": "code",
   "execution_count": 22,
   "id": "b68080cc-c076-4615-9fa8-b8b34d501cea",
   "metadata": {},
   "outputs": [
    {
     "name": "stdout",
     "output_type": "stream",
     "text": [
      "185    1\n",
      "157    1\n",
      "110    0\n",
      "39     0\n",
      "198    1\n",
      "      ..\n",
      "278    0\n",
      "163    1\n",
      "137    0\n",
      "33     1\n",
      "246    1\n",
      "Name: condicion, Length: 75, dtype: int64\n"
     ]
    }
   ],
   "source": [
    "print(Y_test)"
   ]
  },
  {
   "cell_type": "code",
   "execution_count": 26,
   "id": "b68279eb-6feb-4563-864f-e307a58d763b",
   "metadata": {},
   "outputs": [
    {
     "name": "stdout",
     "output_type": "stream",
     "text": [
      "[1 1 0 0 1 0 1 0 0 1 0 1 1 1 1 1 0 0 0 1 0 1 1 1 0 0 0 0 0 1 0 1 1 0 0 0 0\n",
      " 0 1 0 0 0 1 1 1 1 1 0 1 1 0 1 0 0 0 0 0 1 1 1 1 0 0 0 1 0 0 1 0 0 0 1 0 0\n",
      " 1]\n"
     ]
    }
   ],
   "source": [
    "print (prediccion) "
   ]
  },
  {
   "cell_type": "code",
   "execution_count": 28,
   "id": "c8aa9495-05bd-45c3-af92-c6304131fbc6",
   "metadata": {},
   "outputs": [
    {
     "name": "stdout",
     "output_type": "stream",
     "text": [
      "              precision    recall  f1-score   support\n",
      "\n",
      "           0       0.88      0.90      0.89        40\n",
      "           1       0.88      0.86      0.87        35\n",
      "\n",
      "    accuracy                           0.88        75\n",
      "   macro avg       0.88      0.88      0.88        75\n",
      "weighted avg       0.88      0.88      0.88        75\n",
      "\n"
     ]
    }
   ],
   "source": [
    "# paso 6 evaluar el desempeño del modelo de regresion \n",
    "\n",
    "print (classification_report(Y_test,prediccion))"
   ]
  },
  {
   "cell_type": "code",
   "execution_count": 29,
   "id": "43c9346a-34c6-4d5b-be07-b2cebb434293",
   "metadata": {},
   "outputs": [
    {
     "data": {
      "text/plain": [
       "<sklearn.metrics._plot.confusion_matrix.ConfusionMatrixDisplay at 0x223c0ee6450>"
      ]
     },
     "execution_count": 29,
     "metadata": {},
     "output_type": "execute_result"
    },
    {
     "data": {
      "image/png": "[encoded data removed]",
      "text/plain": [
       "<Figure size 640x480 with 2 Axes>"
      ]
     },
     "metadata": {},
     "output_type": "display_data"
    }
   ],
   "source": [
    "#paso 7 graficar\n",
    "#matriz de confusion\n",
    "cm=confusion_matrix(Y_test,prediccion)\n",
    "disp=metrics.ConfusionMatrixDisplay(confusion_matrix=cm)\n",
    "disp.plot()\n"
   ]
  },
  {
   "cell_type": "code",
   "execution_count": 30,
   "id": "910d0d09-19c5-48ee-9849-69e489a9af2e",
   "metadata": {},
   "outputs": [
    {
     "data": {
      "text/plain": [
       "<sklearn.metrics._plot.roc_curve.RocCurveDisplay at 0x223bf1710d0>"
      ]
     },
     "execution_count": 30,
     "metadata": {},
     "output_type": "execute_result"
    },
    {
     "data": {
      "image/png": "[encoded data removed]",
      "text/plain": [
       "<Figure size 640x480 with 1 Axes>"
      ]
     },
     "metadata": {},
     "output_type": "display_data"
    }
   ],
   "source": [
    "from sklearn.metrics import RocCurveDisplay\n",
    "RocCurveDisplay.from_predictions(Y_test,prediccion)"
   ]
  },
  {
   "cell_type": "code",
   "execution_count": null,
   "id": "1d3c1dad-488d-44b6-b9c6-fe16ea40e072",
   "metadata": {},
   "outputs": [],
   "source": []
  }
 ],
 "metadata": {
  "kernelspec": {
   "display_name": "Python 3 (ipykernel)",
   "language": "python",
   "name": "python3"
  },
  "language_info": {
   "codemirror_mode": {
    "name": "ipython",
    "version": 3
   },
   "file_extension": ".py",
   "mimetype": "text/x-python",
   "name": "python",
   "nbconvert_exporter": "python",
   "pygments_lexer": "ipython3",
   "version": "3.11.7"
  }
 },
 "nbformat": 4,
 "nbformat_minor": 5
}
